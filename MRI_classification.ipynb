{
  "nbformat": 4,
  "nbformat_minor": 0,
  "metadata": {
    "colab": {
      "provenance": []
    },
    "kernelspec": {
      "name": "python3",
      "display_name": "Python 3"
    },
    "language_info": {
      "name": "python"
    },
    "accelerator": "GPU",
    "gpuClass": "standard",
    "widgets": {
      "application/vnd.jupyter.widget-state+json": {
        "d2ee2b8be44a4eb2b53933d5aaa90fba": {
          "model_module": "@jupyter-widgets/controls",
          "model_name": "HBoxModel",
          "model_module_version": "1.5.0",
          "state": {
            "_dom_classes": [],
            "_model_module": "@jupyter-widgets/controls",
            "_model_module_version": "1.5.0",
            "_model_name": "HBoxModel",
            "_view_count": null,
            "_view_module": "@jupyter-widgets/controls",
            "_view_module_version": "1.5.0",
            "_view_name": "HBoxView",
            "box_style": "",
            "children": [
              "IPY_MODEL_73d3ed77ac604b5ea178a58a33cf04b4",
              "IPY_MODEL_eb111084a49c4bd89126e0eed865ef84",
              "IPY_MODEL_d2566d057d414a2fa051ae19c2bce28d"
            ],
            "layout": "IPY_MODEL_9dc3b9cbc92347de9275957d64a27bc3"
          }
        },
        "73d3ed77ac604b5ea178a58a33cf04b4": {
          "model_module": "@jupyter-widgets/controls",
          "model_name": "HTMLModel",
          "model_module_version": "1.5.0",
          "state": {
            "_dom_classes": [],
            "_model_module": "@jupyter-widgets/controls",
            "_model_module_version": "1.5.0",
            "_model_name": "HTMLModel",
            "_view_count": null,
            "_view_module": "@jupyter-widgets/controls",
            "_view_module_version": "1.5.0",
            "_view_name": "HTMLView",
            "description": "",
            "description_tooltip": null,
            "layout": "IPY_MODEL_17e033bd95cf4ff38e9379774d03c8fa",
            "placeholder": "​",
            "style": "IPY_MODEL_132ae89cb9ff4dba87839e02b8fb24b9",
            "value": "100%"
          }
        },
        "eb111084a49c4bd89126e0eed865ef84": {
          "model_module": "@jupyter-widgets/controls",
          "model_name": "FloatProgressModel",
          "model_module_version": "1.5.0",
          "state": {
            "_dom_classes": [],
            "_model_module": "@jupyter-widgets/controls",
            "_model_module_version": "1.5.0",
            "_model_name": "FloatProgressModel",
            "_view_count": null,
            "_view_module": "@jupyter-widgets/controls",
            "_view_module_version": "1.5.0",
            "_view_name": "ProgressView",
            "bar_style": "success",
            "description": "",
            "description_tooltip": null,
            "layout": "IPY_MODEL_4cb51025e467408bac9e996aa5d015b9",
            "max": 46830571,
            "min": 0,
            "orientation": "horizontal",
            "style": "IPY_MODEL_3896f872048949a7aea984ad97aded69",
            "value": 46830571
          }
        },
        "d2566d057d414a2fa051ae19c2bce28d": {
          "model_module": "@jupyter-widgets/controls",
          "model_name": "HTMLModel",
          "model_module_version": "1.5.0",
          "state": {
            "_dom_classes": [],
            "_model_module": "@jupyter-widgets/controls",
            "_model_module_version": "1.5.0",
            "_model_name": "HTMLModel",
            "_view_count": null,
            "_view_module": "@jupyter-widgets/controls",
            "_view_module_version": "1.5.0",
            "_view_name": "HTMLView",
            "description": "",
            "description_tooltip": null,
            "layout": "IPY_MODEL_effe1cc76d134434aa18dd82480fea3e",
            "placeholder": "​",
            "style": "IPY_MODEL_47f8742e7d094290aff133b76fa7e192",
            "value": " 44.7M/44.7M [00:00&lt;00:00, 67.3MB/s]"
          }
        },
        "9dc3b9cbc92347de9275957d64a27bc3": {
          "model_module": "@jupyter-widgets/base",
          "model_name": "LayoutModel",
          "model_module_version": "1.2.0",
          "state": {
            "_model_module": "@jupyter-widgets/base",
            "_model_module_version": "1.2.0",
            "_model_name": "LayoutModel",
            "_view_count": null,
            "_view_module": "@jupyter-widgets/base",
            "_view_module_version": "1.2.0",
            "_view_name": "LayoutView",
            "align_content": null,
            "align_items": null,
            "align_self": null,
            "border": null,
            "bottom": null,
            "display": null,
            "flex": null,
            "flex_flow": null,
            "grid_area": null,
            "grid_auto_columns": null,
            "grid_auto_flow": null,
            "grid_auto_rows": null,
            "grid_column": null,
            "grid_gap": null,
            "grid_row": null,
            "grid_template_areas": null,
            "grid_template_columns": null,
            "grid_template_rows": null,
            "height": null,
            "justify_content": null,
            "justify_items": null,
            "left": null,
            "margin": null,
            "max_height": null,
            "max_width": null,
            "min_height": null,
            "min_width": null,
            "object_fit": null,
            "object_position": null,
            "order": null,
            "overflow": null,
            "overflow_x": null,
            "overflow_y": null,
            "padding": null,
            "right": null,
            "top": null,
            "visibility": null,
            "width": null
          }
        },
        "17e033bd95cf4ff38e9379774d03c8fa": {
          "model_module": "@jupyter-widgets/base",
          "model_name": "LayoutModel",
          "model_module_version": "1.2.0",
          "state": {
            "_model_module": "@jupyter-widgets/base",
            "_model_module_version": "1.2.0",
            "_model_name": "LayoutModel",
            "_view_count": null,
            "_view_module": "@jupyter-widgets/base",
            "_view_module_version": "1.2.0",
            "_view_name": "LayoutView",
            "align_content": null,
            "align_items": null,
            "align_self": null,
            "border": null,
            "bottom": null,
            "display": null,
            "flex": null,
            "flex_flow": null,
            "grid_area": null,
            "grid_auto_columns": null,
            "grid_auto_flow": null,
            "grid_auto_rows": null,
            "grid_column": null,
            "grid_gap": null,
            "grid_row": null,
            "grid_template_areas": null,
            "grid_template_columns": null,
            "grid_template_rows": null,
            "height": null,
            "justify_content": null,
            "justify_items": null,
            "left": null,
            "margin": null,
            "max_height": null,
            "max_width": null,
            "min_height": null,
            "min_width": null,
            "object_fit": null,
            "object_position": null,
            "order": null,
            "overflow": null,
            "overflow_x": null,
            "overflow_y": null,
            "padding": null,
            "right": null,
            "top": null,
            "visibility": null,
            "width": null
          }
        },
        "132ae89cb9ff4dba87839e02b8fb24b9": {
          "model_module": "@jupyter-widgets/controls",
          "model_name": "DescriptionStyleModel",
          "model_module_version": "1.5.0",
          "state": {
            "_model_module": "@jupyter-widgets/controls",
            "_model_module_version": "1.5.0",
            "_model_name": "DescriptionStyleModel",
            "_view_count": null,
            "_view_module": "@jupyter-widgets/base",
            "_view_module_version": "1.2.0",
            "_view_name": "StyleView",
            "description_width": ""
          }
        },
        "4cb51025e467408bac9e996aa5d015b9": {
          "model_module": "@jupyter-widgets/base",
          "model_name": "LayoutModel",
          "model_module_version": "1.2.0",
          "state": {
            "_model_module": "@jupyter-widgets/base",
            "_model_module_version": "1.2.0",
            "_model_name": "LayoutModel",
            "_view_count": null,
            "_view_module": "@jupyter-widgets/base",
            "_view_module_version": "1.2.0",
            "_view_name": "LayoutView",
            "align_content": null,
            "align_items": null,
            "align_self": null,
            "border": null,
            "bottom": null,
            "display": null,
            "flex": null,
            "flex_flow": null,
            "grid_area": null,
            "grid_auto_columns": null,
            "grid_auto_flow": null,
            "grid_auto_rows": null,
            "grid_column": null,
            "grid_gap": null,
            "grid_row": null,
            "grid_template_areas": null,
            "grid_template_columns": null,
            "grid_template_rows": null,
            "height": null,
            "justify_content": null,
            "justify_items": null,
            "left": null,
            "margin": null,
            "max_height": null,
            "max_width": null,
            "min_height": null,
            "min_width": null,
            "object_fit": null,
            "object_position": null,
            "order": null,
            "overflow": null,
            "overflow_x": null,
            "overflow_y": null,
            "padding": null,
            "right": null,
            "top": null,
            "visibility": null,
            "width": null
          }
        },
        "3896f872048949a7aea984ad97aded69": {
          "model_module": "@jupyter-widgets/controls",
          "model_name": "ProgressStyleModel",
          "model_module_version": "1.5.0",
          "state": {
            "_model_module": "@jupyter-widgets/controls",
            "_model_module_version": "1.5.0",
            "_model_name": "ProgressStyleModel",
            "_view_count": null,
            "_view_module": "@jupyter-widgets/base",
            "_view_module_version": "1.2.0",
            "_view_name": "StyleView",
            "bar_color": null,
            "description_width": ""
          }
        },
        "effe1cc76d134434aa18dd82480fea3e": {
          "model_module": "@jupyter-widgets/base",
          "model_name": "LayoutModel",
          "model_module_version": "1.2.0",
          "state": {
            "_model_module": "@jupyter-widgets/base",
            "_model_module_version": "1.2.0",
            "_model_name": "LayoutModel",
            "_view_count": null,
            "_view_module": "@jupyter-widgets/base",
            "_view_module_version": "1.2.0",
            "_view_name": "LayoutView",
            "align_content": null,
            "align_items": null,
            "align_self": null,
            "border": null,
            "bottom": null,
            "display": null,
            "flex": null,
            "flex_flow": null,
            "grid_area": null,
            "grid_auto_columns": null,
            "grid_auto_flow": null,
            "grid_auto_rows": null,
            "grid_column": null,
            "grid_gap": null,
            "grid_row": null,
            "grid_template_areas": null,
            "grid_template_columns": null,
            "grid_template_rows": null,
            "height": null,
            "justify_content": null,
            "justify_items": null,
            "left": null,
            "margin": null,
            "max_height": null,
            "max_width": null,
            "min_height": null,
            "min_width": null,
            "object_fit": null,
            "object_position": null,
            "order": null,
            "overflow": null,
            "overflow_x": null,
            "overflow_y": null,
            "padding": null,
            "right": null,
            "top": null,
            "visibility": null,
            "width": null
          }
        },
        "47f8742e7d094290aff133b76fa7e192": {
          "model_module": "@jupyter-widgets/controls",
          "model_name": "DescriptionStyleModel",
          "model_module_version": "1.5.0",
          "state": {
            "_model_module": "@jupyter-widgets/controls",
            "_model_module_version": "1.5.0",
            "_model_name": "DescriptionStyleModel",
            "_view_count": null,
            "_view_module": "@jupyter-widgets/base",
            "_view_module_version": "1.2.0",
            "_view_name": "StyleView",
            "description_width": ""
          }
        }
      }
    }
  },
  "cells": [
    {
      "cell_type": "code",
      "source": [
        "!pip install --user kaggle"
      ],
      "metadata": {
        "colab": {
          "base_uri": "https://localhost:8080/"
        },
        "id": "7OzTFW60ZGTH",
        "outputId": "2c444f62-80f0-4ed1-e984-7c481675db97"
      },
      "execution_count": null,
      "outputs": [
        {
          "output_type": "stream",
          "name": "stdout",
          "text": [
            "Looking in indexes: https://pypi.org/simple, https://us-python.pkg.dev/colab-wheels/public/simple/\n",
            "Requirement already satisfied: kaggle in /usr/local/lib/python3.7/dist-packages (1.5.12)\n",
            "Requirement already satisfied: six>=1.10 in /usr/local/lib/python3.7/dist-packages (from kaggle) (1.15.0)\n",
            "Requirement already satisfied: python-dateutil in /usr/local/lib/python3.7/dist-packages (from kaggle) (2.8.2)\n",
            "Requirement already satisfied: requests in /usr/local/lib/python3.7/dist-packages (from kaggle) (2.23.0)\n",
            "Requirement already satisfied: urllib3 in /usr/local/lib/python3.7/dist-packages (from kaggle) (1.24.3)\n",
            "Requirement already satisfied: tqdm in /usr/local/lib/python3.7/dist-packages (from kaggle) (4.64.1)\n",
            "Requirement already satisfied: python-slugify in /usr/local/lib/python3.7/dist-packages (from kaggle) (6.1.2)\n",
            "Requirement already satisfied: certifi in /usr/local/lib/python3.7/dist-packages (from kaggle) (2022.9.24)\n",
            "Requirement already satisfied: text-unidecode>=1.3 in /usr/local/lib/python3.7/dist-packages (from python-slugify->kaggle) (1.3)\n",
            "Requirement already satisfied: chardet<4,>=3.0.2 in /usr/local/lib/python3.7/dist-packages (from requests->kaggle) (3.0.4)\n",
            "Requirement already satisfied: idna<3,>=2.5 in /usr/local/lib/python3.7/dist-packages (from requests->kaggle) (2.10)\n"
          ]
        }
      ]
    },
    {
      "cell_type": "code",
      "source": [
        "!mkdir -p ~/.kaggle\n",
        "!cp kaggle.json ~/.kaggle/\n",
        "!chmod 600 ~/.kaggle/kaggle.json"
      ],
      "metadata": {
        "id": "dMYqOJMHbRDt"
      },
      "execution_count": null,
      "outputs": []
    },
    {
      "cell_type": "code",
      "source": [
        "!kaggle datasets list -s MRI"
      ],
      "metadata": {
        "colab": {
          "base_uri": "https://localhost:8080/"
        },
        "id": "MAyAxzrxCP_i",
        "outputId": "5d5a708e-ec84-43c5-eb2c-10e2b4b42e6f"
      },
      "execution_count": null,
      "outputs": [
        {
          "output_type": "stream",
          "name": "stdout",
          "text": [
            "ref                                                         title                                                size  lastUpdated          downloadCount  voteCount  usabilityRating  \n",
            "----------------------------------------------------------  --------------------------------------------------  -----  -------------------  -------------  ---------  ---------------  \n",
            "mateuszbuda/lgg-mri-segmentation                            Brain MRI segmentation                              714MB  2019-05-02 21:32:45          33584        634  0.8235294        \n",
            "jboysen/mri-and-alzheimers                                  MRI and Alzheimers                                   13KB  2017-08-16 17:18:10          20009        423  0.85294116       \n",
            "sartajbhuvaji/brain-tumor-classification-mri                Brain Tumor Classification (MRI)                     87MB  2020-05-24 16:24:55          19579        360  0.875            \n",
            "masoudnickparvar/brain-tumor-mri-dataset                    Brain Tumor MRI Dataset                             149MB  2021-09-24 12:43:45           5929        128  0.875            \n",
            "sachinkumar413/alzheimer-mri-dataset                        Alzheimer MRI Preprocessed Dataset                   28MB  2022-03-27 05:25:19           2483         58  0.875            \n",
            "sabermalek/mrihs                                            MRI Hippocampus Segmentation                        159MB  2019-10-29 06:56:56           1408         87  0.875            \n",
            "tourist55/alzheimers-dataset-4-class-of-images              Alzheimer's Dataset ( 4 class of Images)             34MB  2019-12-26 19:02:53          14182        323  0.75             \n",
            "navoneel/brain-mri-images-for-brain-tumor-detection         Brain MRI Images for Brain Tumor Detection           15MB  2019-04-14 15:15:54          45679        868  0.5              \n",
            "uraninjo/augmented-alzheimer-mri-dataset                    Augmented Alzheimer MRI Dataset                     380MB  2022-09-20 19:35:49           1050         36  0.875            \n",
            "ilknuricke/neurohackinginrimages                            Structural MRI Datasets (T1, T2, FLAIR etc.)        189MB  2019-11-21 00:59:08           4649        111  0.625            \n",
            "adarshsng/heart-mri-image-dataset-left-atrial-segmentation  Heart MRI Image DataSet : Left Atrial Segmentation  459MB  2021-06-20 12:49:55            819         29  1.0              \n",
            "ahmedhamada0/brain-tumor-detection                          Br35H :: Brain Tumor Detection 2020                  84MB  2021-11-14 04:39:25           7645        169  0.875            \n",
            "jarvisgroot/brain-tumor-classification-mri-images           Brain Tumor Classification MRI Images               633MB  2021-07-04 21:21:38            648         28  0.9375           \n",
            "sshikamaru/world-wide-covid-dataset                         Prostate Cancer MRI                                   2GB  2022-07-02 03:05:45            345         29  0.7647059        \n",
            "shlezinger/brain-mri-data                                   Brain Tumor MRI                                     445MB  2020-10-10 21:23:15            811         17  0.7058824        \n",
            "adityakomaravolu/brain-tumor-mri-images                     Brain Tumor MRI Images                              175MB  2022-11-02 05:21:40            113         14  0.625            \n",
            "abhranta/brain-tumor-detection-mri                          Brain_Tumor_Detection_MRI                            64MB  2021-03-05 17:03:47            886         30  0.75             \n",
            "4quant/soft-tissue-sarcoma                                  Segmenting Soft Tissue Sarcomas                     306MB  2019-11-14 06:50:47           3332        147  0.7647059        \n",
            "uraninjo/augmented-alzheimer-mri-dataset-v2                 Augmented Alzheimer MRI Dataset V2                  379MB  2022-09-28 12:02:54            140         12  0.75             \n",
            "darren2020/ct-to-mri-cgan                                   CT and MRI brain scans                              185MB  2021-05-11 20:05:07            724         23  1.0              \n"
          ]
        }
      ]
    },
    {
      "cell_type": "code",
      "source": [
        "!kaggle datasets download -d sartajbhuvaji/brain-tumor-classification-mri"
      ],
      "metadata": {
        "colab": {
          "base_uri": "https://localhost:8080/"
        },
        "id": "BiRGnXeADrqO",
        "outputId": "4204f92c-f0ff-4b88-bed6-a65d2077a4b6"
      },
      "execution_count": null,
      "outputs": [
        {
          "output_type": "stream",
          "name": "stdout",
          "text": [
            "brain-tumor-classification-mri.zip: Skipping, found more recently modified local copy (use --force to force download)\n"
          ]
        }
      ]
    },
    {
      "cell_type": "code",
      "source": [
        "!unzip brain-tumor-classification-mri.zip"
      ],
      "metadata": {
        "id": "TiFm5_p6FbAB",
        "colab": {
          "base_uri": "https://localhost:8080/"
        },
        "outputId": "06bdfceb-8e5e-4b15-b24f-1dcae624e087"
      },
      "execution_count": null,
      "outputs": [
        {
          "output_type": "stream",
          "name": "stdout",
          "text": [
            "Archive:  brain-tumor-classification-mri.zip\n",
            "replace Testing/glioma_tumor/image(1).jpg? [y]es, [n]o, [A]ll, [N]one, [r]ename: y\n",
            "  inflating: Testing/glioma_tumor/image(1).jpg  \n",
            "replace Testing/glioma_tumor/image(10).jpg? [y]es, [n]o, [A]ll, [N]one, [r]ename: "
          ]
        }
      ]
    },
    {
      "cell_type": "code",
      "source": [
        "import os\n",
        "import torch\n",
        "import numpy as np\n",
        "import torch.nn as nn\n",
        "import torch.optim as optim\n",
        "import torch.nn.functional as F\n",
        "from torchvision import datasets, transforms, models\n",
        "from torch.utils.data import Dataset\n",
        "\n",
        "import matplotlib.pyplot as plt\n",
        "import pandas as pd\n",
        "from PIL import Image"
      ],
      "metadata": {
        "id": "BgNfrTGkEVyO"
      },
      "execution_count": null,
      "outputs": []
    },
    {
      "cell_type": "markdown",
      "source": [
        "## 1. Data"
      ],
      "metadata": {
        "id": "PkLVJSSdkTVz"
      }
    },
    {
      "cell_type": "code",
      "source": [
        "train_dataset_path = './Training'\n",
        "test_dataset_path = './Testing'"
      ],
      "metadata": {
        "id": "fE6A3BV5IGum"
      },
      "execution_count": null,
      "outputs": []
    },
    {
      "cell_type": "code",
      "source": [
        "batch_size = 24\n",
        "epochs = 11"
      ],
      "metadata": {
        "id": "1ewQOdzfIasP"
      },
      "execution_count": null,
      "outputs": []
    },
    {
      "cell_type": "code",
      "source": [
        "transform = transforms.Compose(\n",
        "    [   \n",
        "        # transforms.ToPILImage(),\n",
        "        transforms.Resize([128, 128]),\n",
        "        transforms.RandomHorizontalFlip(),\n",
        "        transforms.ToTensor(),\n",
        "        transforms.Normalize((0.5, 0.5, 0.5), (0.5, 0.5, 0.5)),\n",
        "    ]\n",
        ")"
      ],
      "metadata": {
        "id": "OqTVCq9NgkVP"
      },
      "execution_count": null,
      "outputs": []
    },
    {
      "cell_type": "code",
      "source": [
        "# ImageFolder\n",
        "train_dataset = datasets.ImageFolder(train_dataset_path, transform=transform)\n",
        "test_dataset = datasets.ImageFolder(test_dataset_path, transform=transform)\n",
        "\n",
        "train_loader = torch.utils.data.DataLoader(train_dataset, batch_size=batch_size, shuffle=True)\n",
        "test_loader = torch.utils.data.DataLoader(test_dataset, batch_size=batch_size, shuffle=False)"
      ],
      "metadata": {
        "id": "Za6Vw_lMguQh"
      },
      "execution_count": null,
      "outputs": []
    },
    {
      "cell_type": "code",
      "source": [
        "len(train_dataset)"
      ],
      "metadata": {
        "colab": {
          "base_uri": "https://localhost:8080/"
        },
        "id": "c_-0U54BU3Pm",
        "outputId": "286210c1-0df7-43d5-ba52-585ed9c1358e"
      },
      "execution_count": null,
      "outputs": [
        {
          "output_type": "execute_result",
          "data": {
            "text/plain": [
              "2870"
            ]
          },
          "metadata": {},
          "execution_count": 30
        }
      ]
    },
    {
      "cell_type": "code",
      "source": [
        "device = \"cuda:0\" if torch.cuda.is_available() else \"cpu\"\n",
        "device = torch.device(device)"
      ],
      "metadata": {
        "id": "6oXdrgvQdQ5J"
      },
      "execution_count": null,
      "outputs": []
    },
    {
      "cell_type": "markdown",
      "source": [
        "## 2. Model(ResNet)"
      ],
      "metadata": {
        "id": "dwkctuwXkViK"
      }
    },
    {
      "cell_type": "code",
      "source": [
        "# pretrain resnet\n",
        "resnet18 = models.resnet18(pretrained=True).to(device)"
      ],
      "metadata": {
        "id": "qoEJlBQMH1qe",
        "colab": {
          "base_uri": "https://localhost:8080/",
          "height": 158,
          "referenced_widgets": [
            "d2ee2b8be44a4eb2b53933d5aaa90fba",
            "73d3ed77ac604b5ea178a58a33cf04b4",
            "eb111084a49c4bd89126e0eed865ef84",
            "d2566d057d414a2fa051ae19c2bce28d",
            "9dc3b9cbc92347de9275957d64a27bc3",
            "17e033bd95cf4ff38e9379774d03c8fa",
            "132ae89cb9ff4dba87839e02b8fb24b9",
            "4cb51025e467408bac9e996aa5d015b9",
            "3896f872048949a7aea984ad97aded69",
            "effe1cc76d134434aa18dd82480fea3e",
            "47f8742e7d094290aff133b76fa7e192"
          ]
        },
        "outputId": "31336c64-45dd-4ca7-d311-8b5437deb6f8"
      },
      "execution_count": null,
      "outputs": [
        {
          "output_type": "stream",
          "name": "stderr",
          "text": [
            "/usr/local/lib/python3.7/dist-packages/torchvision/models/_utils.py:209: UserWarning: The parameter 'pretrained' is deprecated since 0.13 and will be removed in 0.15, please use 'weights' instead.\n",
            "  f\"The parameter '{pretrained_param}' is deprecated since 0.13 and will be removed in 0.15, \"\n",
            "/usr/local/lib/python3.7/dist-packages/torchvision/models/_utils.py:223: UserWarning: Arguments other than a weight enum or `None` for 'weights' are deprecated since 0.13 and will be removed in 0.15. The current behavior is equivalent to passing `weights=ResNet18_Weights.IMAGENET1K_V1`. You can also use `weights=ResNet18_Weights.DEFAULT` to get the most up-to-date weights.\n",
            "  warnings.warn(msg)\n",
            "Downloading: \"https://download.pytorch.org/models/resnet18-f37072fd.pth\" to /root/.cache/torch/hub/checkpoints/resnet18-f37072fd.pth\n"
          ]
        },
        {
          "output_type": "display_data",
          "data": {
            "text/plain": [
              "  0%|          | 0.00/44.7M [00:00<?, ?B/s]"
            ],
            "application/vnd.jupyter.widget-view+json": {
              "version_major": 2,
              "version_minor": 0,
              "model_id": "d2ee2b8be44a4eb2b53933d5aaa90fba"
            }
          },
          "metadata": {}
        }
      ]
    },
    {
      "cell_type": "code",
      "source": [
        "num_ftrs = resnet18.fc.in_features \n",
        "resnet18.fc = nn.Linear(num_ftrs, 4).to(device)"
      ],
      "metadata": {
        "id": "aUh_YzrYeTDf"
      },
      "execution_count": null,
      "outputs": []
    },
    {
      "cell_type": "markdown",
      "source": [
        "## 3. Loss Function, Optimizer"
      ],
      "metadata": {
        "id": "fJU6gigDkawR"
      }
    },
    {
      "cell_type": "code",
      "source": [
        "criterion = nn.CrossEntropyLoss()\n",
        "optimizer = optim.SGD(resnet18.parameters(), lr=0.001, momentum=0.9)\n",
        "\n",
        "scheduler = torch.optim.lr_scheduler.ExponentialLR(optimizer, gamma=0.95)"
      ],
      "metadata": {
        "id": "7Jzp_9D7iiG9"
      },
      "execution_count": null,
      "outputs": []
    },
    {
      "cell_type": "markdown",
      "source": [
        "## 4. Train, Validation"
      ],
      "metadata": {
        "id": "R-78oXT5kerD"
      }
    },
    {
      "cell_type": "code",
      "source": [
        "def train(model, dataLoader, criterion, optimizer):\n",
        "    model.train()\n",
        "    cumloss = 0.0\n",
        "    \n",
        "    for images, labels in dataLoader:\n",
        "\n",
        "      images, labels = images.to(device), labels.to(device)\n",
        "\n",
        "      pred = model(images)\n",
        "      loss = criterion(pred, labels)\n",
        "\n",
        "      optimizer.zero_grad()\n",
        "      loss.backward()\n",
        "      optimizer.step()\n",
        "\n",
        "      cumloss += loss.item()\n",
        "\n",
        "    return cumloss/len(dataLoader)"
      ],
      "metadata": {
        "id": "pzz3L_SjmoMK"
      },
      "execution_count": null,
      "outputs": []
    },
    {
      "cell_type": "code",
      "source": [
        "def validation(model, dataLoader, lossfunc, epoch):\n",
        "      model.eval()\n",
        "      cumloss = 0.0\n",
        "      correct, data_size = 0, 0\n",
        "      \n",
        "      with torch.no_grad():\n",
        "          for imgs, labels in dataLoader:\n",
        "    \n",
        "              imgs, labels = imgs.to(device), labels.to(device)\n",
        "              \n",
        "              pred = model(imgs)\n",
        "              correct += torch.sum(torch.argmax(pred, dim=1) == labels).item()\n",
        "              data_size += len(imgs)\n",
        "\n",
        "              loss = lossfunc(pred, labels)\n",
        "              cumloss += loss.item()\n",
        "\n",
        "      print(f\"validation accuracy - epoch ({epoch}): {correct / data_size}\")        \n",
        "      return cumloss / len(dataLoader)"
      ],
      "metadata": {
        "id": "X8ispCVVnNe3"
      },
      "execution_count": null,
      "outputs": []
    },
    {
      "cell_type": "code",
      "source": [
        "losses_train = []\n",
        "losses_test = []\n",
        "\n",
        "for i in range(epochs):\n",
        "    loss_train = train(resnet18, train_loader, criterion, optimizer)\n",
        "    losses_train.append(loss_train)\n",
        "\n",
        "    print(f\"Epoch: {i} - Loss Train: {loss_train}\") \n",
        "\n",
        "    loss_val = validation(resnet18, test_loader, criterion, i)\n",
        "    losses_test.append(loss_val)\n",
        "\n",
        "    scheduler.step()"
      ],
      "metadata": {
        "colab": {
          "base_uri": "https://localhost:8080/"
        },
        "id": "6xws-hH8nV_B",
        "outputId": "d1dd3338-a3ae-493c-80df-caf294485fc9"
      },
      "execution_count": null,
      "outputs": [
        {
          "output_type": "stream",
          "name": "stdout",
          "text": [
            "Epoch: 0 - Loss Train: 0.11324144969694316\n",
            "validation accuracy - epoch (0): 0.6979695431472082\n",
            "Epoch: 1 - Loss Train: 0.1282171758823097\n",
            "validation accuracy - epoch (1): 0.7284263959390863\n",
            "Epoch: 2 - Loss Train: 0.076446177981173\n",
            "validation accuracy - epoch (2): 0.7588832487309645\n",
            "Epoch: 3 - Loss Train: 0.050750664803975575\n",
            "validation accuracy - epoch (3): 0.7639593908629442\n",
            "Epoch: 4 - Loss Train: 0.032778436756537604\n",
            "validation accuracy - epoch (4): 0.7563451776649747\n",
            "Epoch: 5 - Loss Train: 0.021145121293375268\n",
            "validation accuracy - epoch (5): 0.7588832487309645\n",
            "Epoch: 6 - Loss Train: 0.025724917002177487\n",
            "validation accuracy - epoch (6): 0.7690355329949239\n",
            "Epoch: 7 - Loss Train: 0.016096356712902587\n",
            "validation accuracy - epoch (7): 0.766497461928934\n",
            "Epoch: 8 - Loss Train: 0.024825920581740015\n",
            "validation accuracy - epoch (8): 0.8020304568527918\n",
            "Epoch: 9 - Loss Train: 0.02203205300514431\n",
            "validation accuracy - epoch (9): 0.799492385786802\n",
            "Epoch: 10 - Loss Train: 0.014051627135874394\n",
            "validation accuracy - epoch (10): 0.7715736040609137\n"
          ]
        }
      ]
    },
    {
      "cell_type": "markdown",
      "source": [
        "## 5. Visualization"
      ],
      "metadata": {
        "id": "dxZxyvhRkifd"
      }
    },
    {
      "cell_type": "code",
      "source": [
        "def plot_loss(losses):\n",
        "    fig = plt.figure(figsize=(13,5))\n",
        "    ax = fig.gca()\n",
        "    \n",
        "    for loss_name, loss_values in losses.items():\n",
        "        ax.plot(loss_values, label=loss_name)\n",
        "\n",
        "    ax.legend(fontsize=\"16\")\n",
        "    ax.set_xlabel(\"Epoch\", fontsize=\"16\")\n",
        "    ax.set_ylabel(\"Loss\", fontsize=\"16\")\n",
        "    ax.set_title(\"Loss vs epochs\", fontsize=\"16\");"
      ],
      "metadata": {
        "id": "lGrEWsCrn65O"
      },
      "execution_count": null,
      "outputs": []
    },
    {
      "cell_type": "code",
      "source": [
        "graph_loss = {'train loss': losses_train,\n",
        "              'validation loss': losses_test}\n",
        "\n",
        "plot_loss(graph_loss)"
      ],
      "metadata": {
        "colab": {
          "base_uri": "https://localhost:8080/",
          "height": 357
        },
        "id": "qvQUR7kvrts5",
        "outputId": "013c177c-1db3-4485-9546-e8fbc61be26f"
      },
      "execution_count": null,
      "outputs": [
        {
          "output_type": "display_data",
          "data": {
            "text/plain": [
              "<Figure size 936x360 with 1 Axes>"
            ],
            "image/png": "[encoded data removed]"
          },
          "metadata": {
            "needs_background": "light"
          }
        }
      ]
    },
    {
      "cell_type": "code",
      "source": [],
      "metadata": {
        "id": "KZLhZ4gNr_YY"
      },
      "execution_count": null,
      "outputs": []
    }
  ]
}